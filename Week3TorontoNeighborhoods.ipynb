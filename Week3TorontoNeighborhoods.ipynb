{
    "cells": [
        {
            "cell_type": "markdown",
            "metadata": {
                "collapsed": true
            },
            "source": "# Week 3 Assignment - Analyzing Toronto Neighborhoods\n### Creating a new notebook to answer the three questions within the assignment\n#### Part 1 Creating the dataframe from Toronto Postal Code Wikipedia page"
        },
        {
            "cell_type": "code",
            "execution_count": 1,
            "metadata": {},
            "outputs": [
                {
                    "name": "stdout",
                    "output_type": "stream",
                    "text": "/opt/conda/envs/Python-3.7-main/lib/python3.7/site-packages/secretstorage/dhcrypto.py:16: CryptographyDeprecationWarning: int_from_bytes is deprecated, use int.from_bytes instead\n  from cryptography.utils import int_from_bytes\n/opt/conda/envs/Python-3.7-main/lib/python3.7/site-packages/secretstorage/util.py:25: CryptographyDeprecationWarning: int_from_bytes is deprecated, use int.from_bytes instead\n  from cryptography.utils import int_from_bytes\nCollecting bs4\n  Downloading bs4-0.0.1.tar.gz (1.1 kB)\nRequirement already satisfied: beautifulsoup4 in /opt/conda/envs/Python-3.7-main/lib/python3.7/site-packages (from bs4) (4.9.1)\nRequirement already satisfied: soupsieve>1.2 in /opt/conda/envs/Python-3.7-main/lib/python3.7/site-packages (from beautifulsoup4->bs4) (2.0.1)\nBuilding wheels for collected packages: bs4\n  Building wheel for bs4 (setup.py) ... \u001b[?25ldone\n\u001b[?25h  Created wheel for bs4: filename=bs4-0.0.1-py3-none-any.whl size=1272 sha256=80b6ea5bf6e9d37354575e0cdc5c726bafa14d2e9fbd149f6c61dcc6a9b2ac58\n  Stored in directory: /tmp/wsuser/.cache/pip/wheels/0a/9e/ba/20e5bbc1afef3a491f0b3bb74d508f99403aabe76eda2167ca\nSuccessfully built bs4\nInstalling collected packages: bs4\nSuccessfully installed bs4-0.0.1\n"
                }
            ],
            "source": "!pip install bs4"
        },
        {
            "cell_type": "code",
            "execution_count": 7,
            "metadata": {},
            "outputs": [],
            "source": "from bs4 import BeautifulSoup # this module helps in web scrapping.\nimport requests  # this module helps us to download a web page\nimport pandas as pd #will create a dataframe"
        },
        {
            "cell_type": "code",
            "execution_count": 3,
            "metadata": {},
            "outputs": [],
            "source": "#hoping we are pulling the correct wikipedia page\nhtml = requests.get(\"https://en.wikipedia.org/wiki/List_of_postal_codes_of_Canada:_M\") \nhtml_data = html.text"
        },
        {
            "cell_type": "code",
            "execution_count": 4,
            "metadata": {},
            "outputs": [],
            "source": "soup = BeautifulSoup(html_data, 'html5lib')"
        },
        {
            "cell_type": "code",
            "execution_count": 5,
            "metadata": {},
            "outputs": [
                {
                    "name": "stdout",
                    "output_type": "stream",
                    "text": "tag object: <title>List of postal codes of Canada: M - Wikipedia</title>\n"
                }
            ],
            "source": "tag_object=soup.title\n#verifying that i am using the correct webpage\nprint(\"tag object:\",tag_object) "
        },
        {
            "cell_type": "code",
            "execution_count": 41,
            "metadata": {},
            "outputs": [],
            "source": "toronto_data=[]\n#finding table in webpage\ntable=soup.find('table') \nfor row in table.findAll('td'):\n    cell = {}\n    if row.span.text=='Not assigned':\n        pass\n    else:\n        #pulling first three characters\n        cell['PostalCode'] = row.p.text[:3]\n        cell['Borough'] = (row.span.text).split('(')[0]\n        cell['Neighborhood'] = (((((row.span.text).split('(')[1]).strip(')')).replace(' /',',')).replace(')',' ')).strip(' ')\n        toronto_data.append(cell)"
        },
        {
            "cell_type": "code",
            "execution_count": 42,
            "metadata": {},
            "outputs": [],
            "source": "#Putting data pulled from table into a dataframe\ndf=pd.DataFrame(toronto_data) \n#Replacing some of the names pulled from the table\ndf['Borough']=df['Borough'].replace({'Downtown TorontoStn A PO Boxes25 The Esplanade':'Downtown Toronto Stn A',\n                                             'East TorontoBusiness reply mail Processing Centre969 Eastern':'East Toronto Business',\n                                             'EtobicokeNorthwest':'Etobicoke Northwest','East YorkEast Toronto':'East York/East Toronto',\n                                             'MississaugaCanada Post Gateway Processing Centre':'Mississauga'})"
        },
        {
            "cell_type": "code",
            "execution_count": 43,
            "metadata": {},
            "outputs": [
                {
                    "data": {
                        "text/plain": "(103, 3)"
                    },
                    "execution_count": 43,
                    "metadata": {},
                    "output_type": "execute_result"
                }
            ],
            "source": "df.shape"
        },
        {
            "cell_type": "markdown",
            "metadata": {},
            "source": "#### Part 2 Adding Latitude and Longitude to postal code dataframe"
        },
        {
            "cell_type": "code",
            "execution_count": 46,
            "metadata": {},
            "outputs": [],
            "source": "#creating list from .csv file provided\nlist = [['M1B', 43.8066863, -79.1943534],\n        ['M1C', 43.7845351, -79.1604971],\n        ['M1E', 43.7635726, -79.1887115],\n        ['M1G', 43.7709921, -79.2169174],\n        ['M1H', 43.773136, -79.2394761],\n        ['M1J', 43.7447342, -79.2394761],\n        ['M1K', 43.7279292, -79.2620294],\n        ['M1L', 43.7111117, -79.2845772],\n        ['M1M', 43.716316, -79.2394761],\n        ['M1N', 43.692657, -79.2648481],\n        ['M1P', 43.7574096, -79.273304],\n        ['M1R', 43.7500715, -79.2958491],\n        ['M1S', 43.7942003, -79.2620294],\n        ['M1T', 43.7816375, -79.3043021],\n        ['M1V', 43.8152522, -79.2845772],\n        ['M1W', 43.7995252, -79.3183887],\n        ['M1X', 43.8361247, -79.2056361],\n        ['M2H', 43.8037622, -79.3634517],\n        ['M2J', 43.7785175, -79.3465557],\n        ['M2K', 43.7869473, -79.385975],\n        ['M2L', 43.7574902, -79.3747141],\n        ['M2M', 43.789053, -79.4084928],\n        ['M2N', 43.7701199, -79.4084928],\n        ['M2P', 43.7527583, -79.4000493],\n        ['M2R', 43.7827364, -79.4422593],\n        ['M3A', 43.7532586, -79.3296565],\n        ['M3B', 43.7459058, -79.352188],\n        ['M3C', 43.7258997, -79.340923],\n        ['M3H', 43.7543283, -79.4422593],\n        ['M3J', 43.7679803, -79.4872619],\n        ['M3K', 43.7374732, -79.4647633],\n        ['M3L', 43.7390146, -79.5069436],\n        ['M3M', 43.7284964, -79.4956974],\n        ['M3N', 43.7616313, -79.5209994],\n        ['M4A', 43.7258823, -79.3155716],\n        ['M4B', 43.7063972, -79.309937],\n        ['M4C', 43.6953439, -79.3183887],\n        ['M4E', 43.6763574, -79.2930312],\n        ['M4G', 43.7090604, -79.3634517],\n        ['M4H', 43.7053689, -79.3493719],\n        ['M4J', 43.685347, -79.3381065],\n        ['M4K', 43.6795571, -79.352188],\n        ['M4L', 43.6689985, -79.3155716],\n        ['M4M', 43.6595255, -79.340923],\n        ['M4N', 43.7280205, -79.3887901],\n        ['M4P', 43.7127511, -79.3901975],\n        ['M4R', 43.7153834, -79.4056784],\n        ['M4S', 43.7043244, -79.3887901],\n        ['M4T', 43.6895743, -79.3831599],\n        ['M4V', 43.6864123, -79.4000493],\n        ['M4W', 43.6795626, -79.3775294],\n        ['M4X', 43.667967, -79.3676753],\n        ['M4Y', 43.6658599, -79.3831599],\n        ['M5A', 43.6542599, -79.3606359],\n        ['M5B', 43.6571618, -79.3789371],\n        ['M5C', 43.6514939, -79.3754179],\n        ['M5E', 43.6447708, -79.3733064],\n        ['M5G', 43.6579524, -79.3873826],\n        ['M5H', 43.6505712, -79.3845675],\n        ['M5J', 43.6408157, -79.3817523],\n        ['M5K', 43.6471768, -79.3815764],\n        ['M5L', 43.6481985, -79.3798169],\n        ['M5M', 43.7332825, -79.4197497],\n        ['M5N', 43.7116948, -79.4169356],\n        ['M5P', 43.6969476, -79.4113072],\n        ['M5R', 43.6727097, -79.4056784],\n        ['M5S', 43.6626956, -79.4000493],\n        ['M5T', 43.6532057, -79.4000493],\n        ['M5V', 43.6289467, -79.3944199],\n        ['M5W', 43.6464352, -79.374846],\n        ['M5X', 43.6484292, -79.3822802],\n        ['M6A', 43.718518, -79.4647633],\n        ['M6B', 43.709577, -79.4450726],\n        ['M6C', 43.6937813, -79.4281914],\n        ['M6E', 43.6890256, -79.453512],\n        ['M6G', 43.669542, -79.4225637],\n        ['M6H', 43.6690051, -79.4422593],\n        ['M6J', 43.6479267, -79.4197497],\n        ['M6K', 43.6368472, -79.4281914],\n        ['M6L', 43.7137562, -79.4900738],\n        ['M6M', 43.6911158, -79.4760133],\n        ['M6N', 43.6731853, -79.4872619],\n        ['M6P', 43.6616083, -79.4647633],\n        ['M6R', 43.6489597, -79.456325],\n        ['M6S', 43.6515706, -79.4844499],\n        ['M7A', 43.6623015, -79.3894938],\n        ['M7R', 43.6369656, -79.615819],\n        ['M7Y', 43.6627439, -79.321558],\n        ['M8V', 43.6056466, -79.5013207],\n        ['M8W', 43.6024137, -79.5434841],\n        ['M8X', 43.6536536, -79.5069436],\n        ['M8Y', 43.6362579, -79.4985091],\n        ['M8Z', 43.6288408, -79.5209994],\n        ['M9A', 43.6678556, -79.5322424],\n        ['M9B', 43.6509432, -79.5547244],\n        ['M9C', 43.6435152, -79.5772008],\n        ['M9L', 43.7563033, -79.5659633],\n        ['M9M', 43.7247659, -79.5322424],\n        ['M9N', 43.706876, -79.5181884],\n        ['M9P', 43.696319, -79.5322424],\n        ['M9R', 43.6889054, -79.5547244],\n        ['M9V', 43.7394164, -79.5884369],\n        ['M9W', 43.7067483, -79.5940544]]\ndf_latlon = pd.DataFrame(list, columns = ['PostalCode', 'Latitude', 'Longitude'])"
        },
        {
            "cell_type": "code",
            "execution_count": 47,
            "metadata": {},
            "outputs": [
                {
                    "data": {
                        "text/html": "<div>\n<style scoped>\n    .dataframe tbody tr th:only-of-type {\n        vertical-align: middle;\n    }\n\n    .dataframe tbody tr th {\n        vertical-align: top;\n    }\n\n    .dataframe thead th {\n        text-align: right;\n    }\n</style>\n<table border=\"1\" class=\"dataframe\">\n  <thead>\n    <tr style=\"text-align: right;\">\n      <th></th>\n      <th>PostalCode</th>\n      <th>Latitude</th>\n      <th>Longitude</th>\n    </tr>\n  </thead>\n  <tbody>\n    <tr>\n      <th>0</th>\n      <td>M1B</td>\n      <td>43.806686</td>\n      <td>-79.194353</td>\n    </tr>\n    <tr>\n      <th>1</th>\n      <td>M1C</td>\n      <td>43.784535</td>\n      <td>-79.160497</td>\n    </tr>\n    <tr>\n      <th>2</th>\n      <td>M1E</td>\n      <td>43.763573</td>\n      <td>-79.188711</td>\n    </tr>\n    <tr>\n      <th>3</th>\n      <td>M1G</td>\n      <td>43.770992</td>\n      <td>-79.216917</td>\n    </tr>\n    <tr>\n      <th>4</th>\n      <td>M1H</td>\n      <td>43.773136</td>\n      <td>-79.239476</td>\n    </tr>\n  </tbody>\n</table>\n</div>",
                        "text/plain": "  PostalCode   Latitude  Longitude\n0        M1B  43.806686 -79.194353\n1        M1C  43.784535 -79.160497\n2        M1E  43.763573 -79.188711\n3        M1G  43.770992 -79.216917\n4        M1H  43.773136 -79.239476"
                    },
                    "execution_count": 47,
                    "metadata": {},
                    "output_type": "execute_result"
                }
            ],
            "source": "#checking dataframe was created successfully\ndf_latlon.head()"
        },
        {
            "cell_type": "code",
            "execution_count": 49,
            "metadata": {},
            "outputs": [],
            "source": "# Merging both dataframes to bring in latitude and longitude into first dataframe\ndftor = (df.merge(df_latlon, left_on = 'PostalCode', right_on = 'PostalCode'))"
        },
        {
            "cell_type": "code",
            "execution_count": 55,
            "metadata": {},
            "outputs": [
                {
                    "name": "stdout",
                    "output_type": "stream",
                    "text": "(103, 5)\n"
                },
                {
                    "data": {
                        "text/html": "<div>\n<style scoped>\n    .dataframe tbody tr th:only-of-type {\n        vertical-align: middle;\n    }\n\n    .dataframe tbody tr th {\n        vertical-align: top;\n    }\n\n    .dataframe thead th {\n        text-align: right;\n    }\n</style>\n<table border=\"1\" class=\"dataframe\">\n  <thead>\n    <tr style=\"text-align: right;\">\n      <th></th>\n      <th>PostalCode</th>\n      <th>Borough</th>\n      <th>Neighborhood</th>\n      <th>Latitude</th>\n      <th>Longitude</th>\n    </tr>\n  </thead>\n  <tbody>\n    <tr>\n      <th>0</th>\n      <td>M3A</td>\n      <td>North York</td>\n      <td>Parkwoods</td>\n      <td>43.753259</td>\n      <td>-79.329656</td>\n    </tr>\n    <tr>\n      <th>1</th>\n      <td>M4A</td>\n      <td>North York</td>\n      <td>Victoria Village</td>\n      <td>43.725882</td>\n      <td>-79.315572</td>\n    </tr>\n    <tr>\n      <th>2</th>\n      <td>M5A</td>\n      <td>Downtown Toronto</td>\n      <td>Regent Park, Harbourfront</td>\n      <td>43.654260</td>\n      <td>-79.360636</td>\n    </tr>\n    <tr>\n      <th>3</th>\n      <td>M6A</td>\n      <td>North York</td>\n      <td>Lawrence Manor, Lawrence Heights</td>\n      <td>43.718518</td>\n      <td>-79.464763</td>\n    </tr>\n    <tr>\n      <th>4</th>\n      <td>M7A</td>\n      <td>Queen's Park</td>\n      <td>Ontario Provincial Government</td>\n      <td>43.662301</td>\n      <td>-79.389494</td>\n    </tr>\n  </tbody>\n</table>\n</div>",
                        "text/plain": "  PostalCode           Borough                      Neighborhood   Latitude  \\\n0        M3A        North York                         Parkwoods  43.753259   \n1        M4A        North York                  Victoria Village  43.725882   \n2        M5A  Downtown Toronto         Regent Park, Harbourfront  43.654260   \n3        M6A        North York  Lawrence Manor, Lawrence Heights  43.718518   \n4        M7A      Queen's Park     Ontario Provincial Government  43.662301   \n\n   Longitude  \n0 -79.329656  \n1 -79.315572  \n2 -79.360636  \n3 -79.464763  \n4 -79.389494  "
                    },
                    "execution_count": 55,
                    "metadata": {},
                    "output_type": "execute_result"
                }
            ],
            "source": "# checking new dataframe\nprint(dftor.shape)\ndftor.head()"
        },
        {
            "cell_type": "code",
            "execution_count": null,
            "metadata": {},
            "outputs": [],
            "source": ""
        }
    ],
    "metadata": {
        "kernelspec": {
            "display_name": "Python 3.7",
            "language": "python",
            "name": "python3"
        },
        "language_info": {
            "codemirror_mode": {
                "name": "ipython",
                "version": 3
            },
            "file_extension": ".py",
            "mimetype": "text/x-python",
            "name": "python",
            "nbconvert_exporter": "python",
            "pygments_lexer": "ipython3",
            "version": "3.7.10"
        }
    },
    "nbformat": 4,
    "nbformat_minor": 1
}