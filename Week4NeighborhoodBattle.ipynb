{
    "cells": [
        {
            "cell_type": "markdown",
            "metadata": {
                "collapsed": true
            },
            "source": "# Week 4 Battle of the Neighborhoods - Long Beach CA Edition"
        },
        {
            "cell_type": "markdown",
            "metadata": {},
            "source": "## Instruction - Business Problem\n#### Currently Long Beach CA is seeing a lot of investment coming into the city, in the shape of new highrise buildings and commercial space opening. As an investor, it would be a good idea to open up a gym / dance studio where you will serve the community as a place for people to gather and build camaraderie with their fellow neighbors. \n\n#### As Long Beach is a pretty big city, the goal of this project is to find a location within the city to place the business. It would be great if we can find a neighborhood that is currently being underserved with these types of venues. This will help the people around your location come to your business, instead of having to drive farther away and go somewhere else. Also, if you are in a location that is farther away from venues of the same type, it will be easier to compete in the market, compared to finding two business with close proximity to one another."
        },
        {
            "cell_type": "markdown",
            "metadata": {},
            "source": "## Data\n#### We will be pulling a list of all the neighborhoods (including population) in Long Beach from the Long Beach city website. This will be our starting population. We will then merge the list of neighborhoods with location data from Foursquare in order to find the latitude and longitude of each neighborhood, as well as all the venues around each neighborhood. It would be a good idea to not only find all the gym / dance studio venues within each neighborhood, but also find other venue categories within each neighborhood. This will help us decide what neighborhood we would like to implement the new business. I would think that a neighborhood with more venues (assuming higher foot traffic) would be better compared to one with less venues, as that would mean more possible customers. "
        },
        {
            "cell_type": "code",
            "execution_count": null,
            "metadata": {},
            "outputs": [],
            "source": ""
        }
    ],
    "metadata": {
        "kernelspec": {
            "display_name": "Python 3.7",
            "language": "python",
            "name": "python3"
        },
        "language_info": {
            "codemirror_mode": {
                "name": "ipython",
                "version": 3
            },
            "file_extension": ".py",
            "mimetype": "text/x-python",
            "name": "python",
            "nbconvert_exporter": "python",
            "pygments_lexer": "ipython3",
            "version": "3.7.10"
        }
    },
    "nbformat": 4,
    "nbformat_minor": 1
}